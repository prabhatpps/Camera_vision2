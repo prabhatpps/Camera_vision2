{
 "cells": [
  {
   "cell_type": "code",
   "execution_count": 1,
   "id": "initial_id",
   "metadata": {
    "collapsed": true,
    "ExecuteTime": {
     "end_time": "2024-03-16T17:50:38.258074Z",
     "start_time": "2024-03-16T17:50:32.394962Z"
    }
   },
   "outputs": [
    {
     "name": "stdout",
     "output_type": "stream",
     "text": [
      "Download completed. Video saved at: Videos/sample_video2.MOV\n"
     ]
    }
   ],
   "source": [
    "import requests\n",
    "\n",
    "def download_video(url, file_path):\n",
    "    try:\n",
    "        # Send a GET request to the URL\n",
    "        response = requests.get(url, stream=True)\n",
    "        \n",
    "        # Raise an HTTPError for bad requests\n",
    "        response.raise_for_status()\n",
    "        \n",
    "        # Open the file in binary write mode\n",
    "        with open(file_path, 'wb') as file:\n",
    "            # Write the content of the response to the file\n",
    "            for chunk in response.iter_content(chunk_size=8192):\n",
    "                file.write(chunk)\n",
    "        \n",
    "        print(f\"Download completed. Video saved at: {file_path}\")\n",
    "    \n",
    "    except requests.exceptions.HTTPError as err:\n",
    "        print(f\"HTTP error occurred: {err}\")\n",
    "    \n",
    "    except Exception as e:\n",
    "        print(f\"An error occurred: {e}\")\n",
    "\n",
    "# URL of the .mov video\n",
    "video_url = \"https://drive.google.com/uc?id=172J8Ld71S1OvdVCAClHJ496AzJkTLOB_&export=download\"\n",
    "\n",
    "# File path to save the downloaded video\n",
    "file_path = \"Videos/sample_video2.MOV\"\n",
    "\n",
    "# Call the function to download the video\n",
    "download_video(video_url, file_path)\n"
   ]
  },
  {
   "cell_type": "code",
   "outputs": [],
   "source": [],
   "metadata": {
    "collapsed": false
   },
   "id": "6268bb37c1529b1a"
  }
 ],
 "metadata": {
  "kernelspec": {
   "display_name": "Python 3",
   "language": "python",
   "name": "python3"
  },
  "language_info": {
   "codemirror_mode": {
    "name": "ipython",
    "version": 2
   },
   "file_extension": ".py",
   "mimetype": "text/x-python",
   "name": "python",
   "nbconvert_exporter": "python",
   "pygments_lexer": "ipython2",
   "version": "2.7.6"
  }
 },
 "nbformat": 4,
 "nbformat_minor": 5
}
